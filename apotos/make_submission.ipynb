{
 "cells": [
  {
   "cell_type": "code",
   "execution_count": 1,
   "metadata": {},
   "outputs": [],
   "source": [
    "# FIXME  : 以下の関数は定義されたファイルの形式に依存するので、utilsに記載できない。\n",
    "def is_env_notebook():\n",
    "    \"\"\"Determine wheather is the environment Jupyter Notebook\"\"\"\n",
    "    if 'get_ipython' not in globals():\n",
    "        # Python shell\n",
    "        return False\n",
    "    env_name = get_ipython().__class__.__name__\n",
    "    if env_name == 'TerminalInteractiveShell':\n",
    "        # IPython shell\n",
    "        return False\n",
    "    # Jupyter Notebook\n",
    "    return True"
   ]
  },
  {
   "cell_type": "code",
   "execution_count": 2,
   "metadata": {},
   "outputs": [],
   "source": [
    "import argparse\n",
    "import os\n",
    "import pandas as pd\n",
    "from IPython.core.debugger import Pdb\n",
    "\n",
    "ON_KAGGLE: bool = 'KAGGLE_WORKING_DIR' in os.environ\n",
    "\n",
    "if ON_KAGGLE:\n",
    "    from .utils import mean_df\n",
    "    from .dataset import DATA_ROOT\n",
    "    from .main import binarize_prediction\n",
    "else:\n",
    "    from utils import mean_df\n",
    "    from dataset import DATA_ROOT\n",
    "    from main import binarize_prediction\n"
   ]
  },
  {
   "cell_type": "code",
   "execution_count": 3,
   "metadata": {},
   "outputs": [],
   "source": [
    "def main(*args):\n",
    "    \n",
    "    parser = argparse.ArgumentParser()\n",
    "    arg = parser.add_argument\n",
    " #   Pdb().set_trace()\n",
    "    arg('--predictions', nargs='+')\n",
    "    arg('--output')\n",
    "    arg('--threshold', type=float, default=0.2)\n",
    "    \n",
    "    if is_env_notebook():\n",
    "        args = parser.parse_args(args=args[0])\n",
    "    else:\n",
    "        args = parser.parse_args()\n",
    "    \n",
    "    sample_submission = pd.read_csv(\n",
    "        DATA_ROOT / 'sample_submission.csv', index_col='id_code')\n",
    "    dfs = []\n",
    "    \n",
    "    for prediction in args.predictions:\n",
    "        #Pdb().set_trace()\n",
    "        df = pd.read_hdf(prediction, index_col='id_code')\n",
    "        df = df.reindex(sample_submission.index)\n",
    "        dfs.append(df)\n",
    "        \n",
    "    df = pd.concat(dfs)\n",
    "    df = mean_df(df)\n",
    "   # Pdb().set_trace()\n",
    "    \n",
    "  #  df[:] = binarize_prediction(df.values, threshold=args.threshold)\n",
    "    df[\"diagnosis\"] = df.values.argmax(axis=1)\n",
    "   # df = df.apply(get_classes, axis=1)\n",
    "    #df.name = 'diagnosis'\n",
    "    df.loc[:,[\"diagnosis\"]].to_csv(args.output, header=True)\n",
    "\n",
    "def get_classes(item):\n",
    "    return ' '.join(cls for cls, is_present in item.items() if is_present)\n"
   ]
  },
  {
   "cell_type": "code",
   "execution_count": 4,
   "metadata": {},
   "outputs": [],
   "source": [
    "if __name__ == '__main__':\n",
    "    \n",
    "    args = [\"--predictions\",\"model_1/test.h5\",\n",
    "            \"--output\",\"submission.csv\"]\n",
    "    main(args)"
   ]
  }
 ],
 "metadata": {
  "kernelspec": {
   "display_name": "Python 3",
   "language": "python",
   "name": "python3"
  },
  "language_info": {
   "codemirror_mode": {
    "name": "ipython",
    "version": 3
   },
   "file_extension": ".py",
   "mimetype": "text/x-python",
   "name": "python",
   "nbconvert_exporter": "python",
   "pygments_lexer": "ipython3",
   "version": "3.6.6"
  }
 },
 "nbformat": 4,
 "nbformat_minor": 2
}
