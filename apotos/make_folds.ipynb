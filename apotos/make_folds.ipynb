{
 "cells": [
  {
   "cell_type": "code",
   "execution_count": 1,
   "metadata": {},
   "outputs": [],
   "source": [
    "# FIXME  : 以下の関数は定義されたファイルの形式に依存するので、utilsに記載できない。\n",
    "def is_env_notebook():\n",
    "    \"\"\"Determine wheather is the environment Jupyter Notebook\"\"\"\n",
    "    if 'get_ipython' not in globals():\n",
    "        # Python shell\n",
    "        return False\n",
    "    env_name = get_ipython().__class__.__name__\n",
    "    if env_name == 'TerminalInteractiveShell':\n",
    "        # IPython shell\n",
    "        return False\n",
    "    # Jupyter Notebook\n",
    "    return True"
   ]
  },
  {
   "cell_type": "code",
   "execution_count": 2,
   "metadata": {},
   "outputs": [],
   "source": [
    "#import sys\n",
    "#sys.path.append('.')\n",
    "\n",
    "import argparse\n",
    "from collections import defaultdict, Counter\n",
    "import random\n",
    "import os\n",
    "\n",
    "import pandas as pd\n",
    "import tqdm\n",
    "\n",
    "ON_KAGGLE: bool = 'KAGGLE_WORKING_DIR' in os.environ\n",
    "\n",
    "if ON_KAGGLE:\n",
    "    from .dataset import DATA_ROOT\n",
    "else:\n",
    "    from dataset import DATA_ROOT\n"
   ]
  },
  {
   "cell_type": "code",
   "execution_count": 3,
   "metadata": {},
   "outputs": [],
   "source": [
    "# make_foldsはマルチラベル用になってる。\n",
    "def make_folds_for_multilabel(n_folds: int) -> pd.DataFrame:\n",
    "    df = pd.read_csv(DATA_ROOT / 'train.csv')\n",
    "    cls_counts = Counter(cls for classes in df['attribute_ids'].str.split()\n",
    "                         for cls in classes)\n",
    "    fold_cls_counts = defaultdict(int)\n",
    "    folds = [-1] * len(df)\n",
    "    for item in tqdm.tqdm(df.sample(frac=1, random_state=42).itertuples(),\n",
    "                          total=len(df)):\n",
    "        cls = min(item.attribute_ids.split(), key=lambda cls: cls_counts[cls])\n",
    "        fold_counts = [(f, fold_cls_counts[f, cls]) for f in range(n_folds)]\n",
    "        min_count = min([count for _, count in fold_counts])\n",
    "        random.seed(item.Index)\n",
    "        fold = random.choice([f for f, count in fold_counts\n",
    "                              if count == min_count])\n",
    "        folds[item.Index] = fold\n",
    "        for cls in item.attribute_ids.split():\n",
    "            fold_cls_counts[fold, cls] += 1\n",
    "    df['fold'] = folds\n",
    "    return df\n",
    "\n",
    "def make_folds(n_folds:int) -> pd.DataFrame:\n",
    "    df = pd.read_csv(DATA_ROOT / 'train.csv')\n",
    "    cls_counts = Counter(cls for cls in df[\"diagnosis\"])\n",
    "    \n",
    "    fold_cls_counts = defaultdict(int)\n",
    "    folds = [-1] * len(df)\n",
    "    for item in tqdm.tqdm(df.sample(frac=1, random_state=42).itertuples(),\n",
    "                      total=len(df)):\n",
    "    \n",
    "        cls = item.diagnosis\n",
    "        fold_counts = [(f, fold_cls_counts[f, cls]) for f in range(n_folds)]\n",
    "        min_count = min([count for _, count in fold_counts])\n",
    "        random.seed(item.Index)\n",
    "        fold = random.choice([f for f, count in fold_counts\n",
    "                              if count == min_count])\n",
    "        folds[item.Index] = fold\n",
    "        #for cls in item.diagnosis:\n",
    "        fold_cls_counts[fold, cls] += 1\n",
    "        \n",
    "#   from IPython.core.debugger import Pdb; Pdb().set_trace()\n",
    "    df['fold'] = folds\n",
    "    \n",
    "    return df"
   ]
  },
  {
   "cell_type": "code",
   "execution_count": 4,
   "metadata": {},
   "outputs": [
    {
     "name": "stderr",
     "output_type": "stream",
     "text": [
      "100%|██████████| 3662/3662 [00:00<00:00, 66340.46it/s]\n"
     ]
    }
   ],
   "source": [
    "def main():\n",
    "    \n",
    "    parser = argparse.ArgumentParser()\n",
    "    parser.add_argument('--n-folds', type=int, default=4)\n",
    "    \n",
    "    ## jupyter-notebookかどうか判定\n",
    "    if is_env_notebook():\n",
    "        args = parser.parse_args(args=[])\n",
    "    else:\n",
    "        args = parser.parse_args()\n",
    "        \n",
    "    df = make_folds(n_folds=args.n_folds)\n",
    "    df.to_csv('folds.csv', index=None)\n",
    "   # from IPython.core.debugger import Pdb; Pdb().set_trace()\n",
    "\n",
    "if __name__ == '__main__':\n",
    "    main()"
   ]
  }
 ],
 "metadata": {
  "kernelspec": {
   "display_name": "Python 3",
   "language": "python",
   "name": "python3"
  },
  "language_info": {
   "codemirror_mode": {
    "name": "ipython",
    "version": 3
   },
   "file_extension": ".py",
   "mimetype": "text/x-python",
   "name": "python",
   "nbconvert_exporter": "python",
   "pygments_lexer": "ipython3",
   "version": "3.6.6"
  }
 },
 "nbformat": 4,
 "nbformat_minor": 2
}
